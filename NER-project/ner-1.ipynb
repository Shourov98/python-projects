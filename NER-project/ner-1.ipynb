{
 "cells": [
  {
   "cell_type": "code",
   "execution_count": 86,
   "metadata": {},
   "outputs": [],
   "source": [
    "import spacy\n",
    "import pandas as pd\n",
    "from spacy.training.example import Example\n",
    "from spacy.tokens import DocBin\n",
    "from tqdm import tqdm"
   ]
  },
  {
   "cell_type": "code",
   "execution_count": 87,
   "metadata": {},
   "outputs": [
    {
     "name": "stderr",
     "output_type": "stream",
     "text": [
      "\n",
      "[notice] A new release of pip is available: 23.1.2 -> 23.3.1\n",
      "[notice] To update, run: python.exe -m pip install --upgrade pip\n"
     ]
    },
    {
     "name": "stdout",
     "output_type": "stream",
     "text": [
      "\n",
      "\u001b[38;5;1m✘ No compatible package found for '-q' (spaCy v3.7.2)\u001b[0m\n",
      "\n"
     ]
    }
   ],
   "source": [
    "!pip install -q spacy\n",
    "!python -m spacy download -q en_core_web_sm"
   ]
  },
  {
   "cell_type": "code",
   "execution_count": 88,
   "metadata": {},
   "outputs": [
    {
     "data": {
      "text/html": [
       "<div>\n",
       "<style scoped>\n",
       "    .dataframe tbody tr th:only-of-type {\n",
       "        vertical-align: middle;\n",
       "    }\n",
       "\n",
       "    .dataframe tbody tr th {\n",
       "        vertical-align: top;\n",
       "    }\n",
       "\n",
       "    .dataframe thead th {\n",
       "        text-align: right;\n",
       "    }\n",
       "</style>\n",
       "<table border=\"1\" class=\"dataframe\">\n",
       "  <thead>\n",
       "    <tr style=\"text-align: right;\">\n",
       "      <th></th>\n",
       "      <th>id</th>\n",
       "      <th>intent</th>\n",
       "      <th>text</th>\n",
       "      <th>slots</th>\n",
       "    </tr>\n",
       "  </thead>\n",
       "  <tbody>\n",
       "    <tr>\n",
       "      <th>0</th>\n",
       "      <td>0</td>\n",
       "      <td>flight</td>\n",
       "      <td>i want to fly from boston at 838 am and arrive...</td>\n",
       "      <td>O O O O O B-fromloc.city_name O B-depart_time....</td>\n",
       "    </tr>\n",
       "    <tr>\n",
       "      <th>1</th>\n",
       "      <td>1</td>\n",
       "      <td>flight</td>\n",
       "      <td>what flights are available from pittsburgh to ...</td>\n",
       "      <td>O O O O O B-fromloc.city_name O B-toloc.city_n...</td>\n",
       "    </tr>\n",
       "    <tr>\n",
       "      <th>2</th>\n",
       "      <td>2</td>\n",
       "      <td>flight_time</td>\n",
       "      <td>what is the arrival time in san francisco for ...</td>\n",
       "      <td>O O O B-flight_time I-flight_time O B-fromloc....</td>\n",
       "    </tr>\n",
       "    <tr>\n",
       "      <th>3</th>\n",
       "      <td>3</td>\n",
       "      <td>airfare</td>\n",
       "      <td>cheapest airfare from tacoma to orlando</td>\n",
       "      <td>B-cost_relative O O B-fromloc.city_name O B-to...</td>\n",
       "    </tr>\n",
       "    <tr>\n",
       "      <th>4</th>\n",
       "      <td>4</td>\n",
       "      <td>airfare</td>\n",
       "      <td>round trip fares from pittsburgh to philadelph...</td>\n",
       "      <td>B-round_trip I-round_trip O O B-fromloc.city_n...</td>\n",
       "    </tr>\n",
       "  </tbody>\n",
       "</table>\n",
       "</div>"
      ],
      "text/plain": [
       "   id       intent                                               text  \\\n",
       "0   0       flight  i want to fly from boston at 838 am and arrive...   \n",
       "1   1       flight  what flights are available from pittsburgh to ...   \n",
       "2   2  flight_time  what is the arrival time in san francisco for ...   \n",
       "3   3      airfare            cheapest airfare from tacoma to orlando   \n",
       "4   4      airfare  round trip fares from pittsburgh to philadelph...   \n",
       "\n",
       "                                               slots  \n",
       "0  O O O O O B-fromloc.city_name O B-depart_time....  \n",
       "1  O O O O O B-fromloc.city_name O B-toloc.city_n...  \n",
       "2  O O O B-flight_time I-flight_time O B-fromloc....  \n",
       "3  B-cost_relative O O B-fromloc.city_name O B-to...  \n",
       "4  B-round_trip I-round_trip O O B-fromloc.city_n...  "
      ]
     },
     "execution_count": 88,
     "metadata": {},
     "output_type": "execute_result"
    }
   ],
   "source": [
    "df = pd.read_csv('atis_train.csv')\n",
    "nlp = spacy.load(\"en_core_web_sm\")\n",
    "df.head(5)"
   ]
  },
  {
   "cell_type": "code",
   "execution_count": 89,
   "metadata": {},
   "outputs": [
    {
     "data": {
      "text/plain": [
       "0    i want to fly from boston at 838 am and arrive...\n",
       "1    what flights are available from pittsburgh to ...\n",
       "2    what is the arrival time in san francisco for ...\n",
       "3              cheapest airfare from tacoma to orlando\n",
       "4    round trip fares from pittsburgh to philadelph...\n",
       "Name: text, dtype: object"
      ]
     },
     "execution_count": 89,
     "metadata": {},
     "output_type": "execute_result"
    }
   ],
   "source": [
    "df['text'].head(5)"
   ]
  },
  {
   "cell_type": "code",
   "execution_count": 90,
   "metadata": {},
   "outputs": [],
   "source": [
    "\n",
    "for x in range(0,len(df['text'])):\n",
    "    doc = nlp(df['text'][x])\n",
    "    ents = []\n",
    "    #for start, end, label in __annotations__:\n",
    "     #   span = doc.char_span(start, end, label=label)\n",
    "     #   ents.append(span)\n",
    "    #doc.ents = ents\n",
    "    #df.add(doc)\n"
   ]
  },
  {
   "cell_type": "code",
   "execution_count": 91,
   "metadata": {},
   "outputs": [],
   "source": [
    "# Prepare training data\n",
    "df['tokens'] = df['text'].apply(lambda x: [token.text for token in nlp(x)])\n",
    "train_data = []\n",
    "\n",
    "for index, row in df.iterrows():\n",
    "    text = row['text']\n",
    "    entities = row['slots'].split()  # Assuming 'slots' contains entity annotations\n",
    "    tokens = row['tokens']\n",
    "\n",
    "    # Convert entity annotations to spaCy format\n",
    "    annotations = {'entities': []}\n",
    "    start = 0\n",
    "\n",
    "    for entity in entities:\n",
    "        if entity.startswith('B-'):\n",
    "            label = entity.split('-')[1]\n",
    "            end = start + 1\n",
    "\n",
    "            # Check if the end index is within the bounds of the 'tokens' list\n",
    "            if end <= len(tokens):\n",
    "                annotations['entities'].append((start, end, label))\n",
    "            else:\n",
    "                print(f\"Warning: Entity annotation exceeds token length in '{text}'\")\n",
    "\n",
    "            start = end\n",
    "\n",
    "    train_data.append((text, annotations))\n",
    "\n",
    "# Train the spaCy NER model\n",
    "ner = nlp.get_pipe(\"ner\")\n",
    "\n",
    "# Add labels to the NER model\n",
    "for _, annotations in train_data:\n",
    "    for ent in annotations.get('entities', []):\n",
    "        ner.add_label(ent[2])\n"
   ]
  },
  {
   "cell_type": "code",
   "execution_count": 95,
   "metadata": {},
   "outputs": [
    {
     "data": {
      "text/plain": [
       "[('i want to fly from boston at 838 am and arrive in denver at 1110 in the morning',\n",
       "  {'entities': [(0, 1, 'fromloc.city_name'),\n",
       "    (1, 2, 'depart_time.time'),\n",
       "    (2, 3, 'toloc.city_name'),\n",
       "    (3, 4, 'arrive_time.time'),\n",
       "    (4, 5, 'arrive_time.period_of_day')]}),\n",
       " ('what flights are available from pittsburgh to baltimore on thursday morning',\n",
       "  {'entities': [(0, 1, 'fromloc.city_name'),\n",
       "    (1, 2, 'toloc.city_name'),\n",
       "    (2, 3, 'depart_date.day_name'),\n",
       "    (3, 4, 'depart_time.period_of_day')]})]"
      ]
     },
     "execution_count": 95,
     "metadata": {},
     "output_type": "execute_result"
    }
   ],
   "source": [
    "train_data[0:2]"
   ]
  },
  {
   "cell_type": "code",
   "execution_count": null,
   "metadata": {},
   "outputs": [],
   "source": []
  },
  {
   "cell_type": "code",
   "execution_count": 93,
   "metadata": {},
   "outputs": [
    {
     "name": "stderr",
     "output_type": "stream",
     "text": [
      " 10%|▉         | 495/4978 [00:00<00:00, 4922.32it/s]"
     ]
    },
    {
     "name": "stderr",
     "output_type": "stream",
     "text": [
      "100%|██████████| 4978/4978 [00:00<00:00, 6910.37it/s]\n"
     ]
    }
   ],
   "source": [
    "#Preparing Training Data to train.spacy\n",
    "db = DocBin() # create a DocBin object\n",
    "\n",
    "for text, annot in tqdm(train_data): # data in previous format\n",
    "    doc = nlp.make_doc(text) # create doc object from text\n",
    "    ents = []\n",
    "    for start, end, label in annot[\"entities\"]: # add character indexes\n",
    "        span = doc.char_span(start, end, label=label, alignment_mode=\"contract\")\n",
    "        if span is None:\n",
    "            continue\n",
    "        else:\n",
    "            ents.append(span)\n",
    "    doc.ents = ents # label the text with the ents\n",
    "    db.add(doc)\n",
    "\n",
    "db.to_disk(\"./train.spacy\") # save the docbin object"
   ]
  },
  {
   "cell_type": "code",
   "execution_count": 94,
   "metadata": {},
   "outputs": [
    {
     "ename": "SyntaxError",
     "evalue": "invalid syntax (3541811700.py, line 1)",
     "output_type": "error",
     "traceback": [
      "\u001b[1;36m  Cell \u001b[1;32mIn[94], line 1\u001b[1;36m\u001b[0m\n\u001b[1;33m    python -m spacy train config.cfg --output ./output --paths.train ./train.spacy --paths.dev ./dev.spacy\u001b[0m\n\u001b[1;37m              ^\u001b[0m\n\u001b[1;31mSyntaxError\u001b[0m\u001b[1;31m:\u001b[0m invalid syntax\n"
     ]
    }
   ],
   "source": [
    "python -m spacy train config.cfg --output ./output --paths.train ./train.spacy --paths.dev ./dev.spacy\n"
   ]
  }
 ],
 "metadata": {
  "kernelspec": {
   "display_name": "venv1",
   "language": "python",
   "name": "python3"
  },
  "language_info": {
   "codemirror_mode": {
    "name": "ipython",
    "version": 3
   },
   "file_extension": ".py",
   "mimetype": "text/x-python",
   "name": "python",
   "nbconvert_exporter": "python",
   "pygments_lexer": "ipython3",
   "version": "3.11.4"
  }
 },
 "nbformat": 4,
 "nbformat_minor": 2
}
